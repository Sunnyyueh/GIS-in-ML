{
 "cells": [
  {
   "cell_type": "code",
   "execution_count": null,
   "metadata": {},
   "outputs": [],
   "source": [
    "import matplotlib.pyplot as plt\n",
    "%matplotlib inline\n",
    "import numpy as np\n",
    "from matplotlib.colors import ListedColormap\n",
    "\n",
    "def plot_decision_boundary(model, X, y, axis):\n",
    "    x1s = np.linspace(axis[0], axis[1], 100)\n",
    "    x2s = np.linspace(axis[2], axis[3], 100)\n",
    "    \n",
    "    x1, x2 = np.meshgrid(x1s, x2s)\n",
    "    X_new = np.c_[x1.ravel(), x2.ravel()]\n",
    "    y_pred = model.predict(X_new).reshape(x1.shape)\n",
    "    custom_cmap = ListedColormap(['#fafab0','#9898ff','#a0faa0'])\n",
    "    \n",
    "    plt.figure(figsize=(10,6))\n",
    "    plt.contourf(x1,x2, y_pred, alpha=0.3, cmap = custom_cmap)\n",
    "    plt.contour(x1,x2, y_pred, alpha=0.8, cmap = custom_cmap)\n",
    "    plt.plot(X[:,0][y==0], X[:,1][y==0], \"yo\", label = iris.target_names[0])\n",
    "    plt.plot(X[:,0][y==1], X[:,1][y==1], \"bs\", label = iris.target_names[1])\n",
    "    plt.plot(X[:,0][y==2], X[:,1][y==2], \"g^\", label = iris.target_names[2])\n",
    "    plt.axis(axis=axis)"
   ]
  }
 ],
 "metadata": {
  "kernelspec": {
   "display_name": "Python 3 (ipykernel)",
   "language": "python",
   "name": "python3"
  },
  "language_info": {
   "codemirror_mode": {
    "name": "ipython",
    "version": 3
   },
   "file_extension": ".py",
   "mimetype": "text/x-python",
   "name": "python",
   "nbconvert_exporter": "python",
   "pygments_lexer": "ipython3",
   "version": "3.9.7"
  }
 },
 "nbformat": 4,
 "nbformat_minor": 2
}
