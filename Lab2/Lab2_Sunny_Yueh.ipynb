{
 "cells": [
  {
   "cell_type": "code",
   "execution_count": 1,
   "id": "1bf73f01",
   "metadata": {},
   "outputs": [],
   "source": [
    "import geopandas as gpd\n",
    "# reading the files\n",
    "point=gpd.read_file(\"data/SJER_plot_centroids.shp\")\n",
    "polygon=gpd.read_file(\"data/SJER_crop.shp\")"
   ]
  },
  {
   "cell_type": "code",
   "execution_count": 2,
   "id": "2751d1c5",
   "metadata": {},
   "outputs": [
    {
     "data": {
      "text/plain": [
       "<Derived Projected CRS: EPSG:32611>\n",
       "Name: WGS 84 / UTM zone 11N\n",
       "Axis Info [cartesian]:\n",
       "- E[east]: Easting (metre)\n",
       "- N[north]: Northing (metre)\n",
       "Area of Use:\n",
       "- name: Between 120°W and 114°W, northern hemisphere between equator and 84°N, onshore and offshore. Canada - Alberta; British Columbia (BC); Northwest Territories (NWT); Nunavut. Mexico. United States (USA).\n",
       "- bounds: (-120.0, 0.0, -114.0, 84.0)\n",
       "Coordinate Operation:\n",
       "- name: UTM zone 11N\n",
       "- method: Transverse Mercator\n",
       "Datum: World Geodetic System 1984 ensemble\n",
       "- Ellipsoid: WGS 84\n",
       "- Prime Meridian: Greenwich"
      ]
     },
     "execution_count": 2,
     "metadata": {},
     "output_type": "execute_result"
    }
   ],
   "source": [
    "point.crs"
   ]
  },
  {
   "cell_type": "markdown",
   "id": "6347eba4",
   "metadata": {},
   "source": [
    "####  What is the coordinate reference system (crs) of “SJER_plot_centroids.shp”? \n",
    "CRS: WGS 84  \n",
    "Unit: metre  \n",
    "Datum: World Geodetic System 1984 ensemble  \n",
    "Prime Meridian: Greenwich  \n"
   ]
  },
  {
   "cell_type": "code",
   "execution_count": 17,
   "id": "bedfdb64",
   "metadata": {},
   "outputs": [
    {
     "data": {
      "text/html": [
       "<div>\n",
       "<style scoped>\n",
       "    .dataframe tbody tr th:only-of-type {\n",
       "        vertical-align: middle;\n",
       "    }\n",
       "\n",
       "    .dataframe tbody tr th {\n",
       "        vertical-align: top;\n",
       "    }\n",
       "\n",
       "    .dataframe thead th {\n",
       "        text-align: right;\n",
       "    }\n",
       "</style>\n",
       "<table border=\"1\" class=\"dataframe\">\n",
       "  <thead>\n",
       "    <tr style=\"text-align: right;\">\n",
       "      <th></th>\n",
       "      <th>Id</th>\n",
       "      <th>geometry</th>\n",
       "    </tr>\n",
       "  </thead>\n",
       "  <tbody>\n",
       "    <tr>\n",
       "      <th>0</th>\n",
       "      <td>0</td>\n",
       "      <td>POLYGON ((254570.567 4112361.920, 258867.409 4...</td>\n",
       "    </tr>\n",
       "  </tbody>\n",
       "</table>\n",
       "</div>"
      ],
      "text/plain": [
       "   Id                                           geometry\n",
       "0   0  POLYGON ((254570.567 4112361.920, 258867.409 4..."
      ]
     },
     "execution_count": 17,
     "metadata": {},
     "output_type": "execute_result"
    }
   ],
   "source": [
    "# How many data records (rows) are there in “SJER_crop.shp”? \n",
    "polygon.head()"
   ]
  },
  {
   "cell_type": "markdown",
   "id": "1f0dcfea",
   "metadata": {},
   "source": [
    "####  How many data records (rows) are there in “SJER_crop.shp”? \n",
    "One\n"
   ]
  },
  {
   "cell_type": "code",
   "execution_count": 23,
   "id": "dba2cb78",
   "metadata": {},
   "outputs": [
    {
     "data": {
      "text/plain": [
       "<AxesSubplot:>"
      ]
     },
     "execution_count": 23,
     "metadata": {},
     "output_type": "execute_result"
    },
    {
     "data": {
      "image/png": "[encoded data removed]",
      "text/plain": [
       "<Figure size 720x576 with 1 Axes>"
      ]
     },
     "metadata": {
      "needs_background": "light"
     },
     "output_type": "display_data"
    }
   ],
   "source": [
    "# Create a map showing both “SJER_plot_centroids.shp” and “SJER_crop.shp”\n",
    "import matplotlib.pyplot as plt\n",
    "fig, ax = plt.subplots(figsize=(10,8))\n",
    "polygon.plot(ax=ax, color='white',edgecolor='black')\n",
    "point.plot(ax=ax,marker=\"o\", color='red', markersize=8)"
   ]
  },
  {
   "cell_type": "code",
   "execution_count": 26,
   "id": "cc462ef7",
   "metadata": {},
   "outputs": [
    {
     "data": {
      "text/plain": [
       "<AxesSubplot:>"
      ]
     },
     "execution_count": 26,
     "metadata": {},
     "output_type": "execute_result"
    },
    {
     "data": {
      "image/png": "[encoded data removed]",
      "text/plain": [
       "<Figure size 576x576 with 1 Axes>"
      ]
     },
     "metadata": {
      "needs_background": "light"
     },
     "output_type": "display_data"
    }
   ],
   "source": [
    "# Create a buffer on “SJER_plot_centroids.shp” with the buffer distance as 150 meters and show the map.\n",
    "point_buffer = point.geometry.buffer(150)\n",
    "\n",
    "fig, axes = plt.subplots(figsize=(8,8))\n",
    "\n",
    "polygon.plot(ax=axes, color=\"white\", edgecolor=\"black\")\n",
    "point.plot(ax=axes, alpha=0.5)"
   ]
  },
  {
   "cell_type": "code",
   "execution_count": 31,
   "id": "c06ae48b",
   "metadata": {},
   "outputs": [
    {
     "data": {
      "text/plain": [
       "<AxesSubplot:>"
      ]
     },
     "execution_count": 31,
     "metadata": {},
     "output_type": "execute_result"
    },
    {
     "data": {
      "image/png": "[encoded data removed]",
      "text/plain": [
       "<Figure size 432x288 with 1 Axes>"
      ]
     },
     "metadata": {
      "needs_background": "light"
     },
     "output_type": "display_data"
    }
   ],
   "source": [
    "# Use overlay difference operation between “SJER_crop.shp” and the buffered “SJER_plot_centroids.shp” layer to get the area NOT within 150 meters of the sites.\n",
    "\n",
    "point_buffer_gdf = gpd.GeoDataFrame(geometry=point_buffer)\n",
    "difference = gpd.overlay(polygon,point_buffer_gdf, how=\"difference\")\n",
    "difference.plot()"
   ]
  }
 ],
 "metadata": {
  "kernelspec": {
   "display_name": "Python 3 (ipykernel)",
   "language": "python",
   "name": "python3"
  },
  "language_info": {
   "codemirror_mode": {
    "name": "ipython",
    "version": 3
   },
   "file_extension": ".py",
   "mimetype": "text/x-python",
   "name": "python",
   "nbconvert_exporter": "python",
   "pygments_lexer": "ipython3",
   "version": "3.9.7"
  }
 },
 "nbformat": 4,
 "nbformat_minor": 5
}
